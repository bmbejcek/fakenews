{
 "cells": [
  {
   "cell_type": "code",
   "execution_count": 3,
   "metadata": {
    "collapsed": true
   },
   "outputs": [],
   "source": [
    "import webhoseio\n",
    "import pandas as pd"
   ]
  },
  {
   "cell_type": "code",
   "execution_count": 65,
   "metadata": {
    "collapsed": false
   },
   "outputs": [],
   "source": [
    "# authenticate\n",
    "webhoseio.config(token=\"3cd317bf-5cd9-4ebc-b5a8-c180890936f0\") #mikes token\n",
    "# webhoseio.config(token=\"dd77706a-211d-4630-ad0c-38a98488fb7c\") #orysyas token\n",
    "#perform query\n",
    "# output = webhoseio.query(\"filterWebContent\", {\"q\":\"site:cnn.com language:english site_type:news\"})\n",
    "# output = webhoseio.query(\"filterWebContent\", {\"q\":\"site:cnn.com site:politico.com site:abcnews.go.com site:news.google.com site:bbc.com/news site:economist.com language:english site_type:news\"})\n",
    "# Print the text of the first post\n",
    "# print output['posts'][0]['text']\n",
    "# Print the text of the first post publication date\n",
    "# print output['posts'][0]['published']"
   ]
  },
  {
   "cell_type": "code",
   "execution_count": 3,
   "metadata": {
    "collapsed": true
   },
   "outputs": [],
   "source": [
    "#initialize with first 100 results (first batch)\n",
    "# df = pd.DataFrame.from_dict(output['posts'])\n",
    "#grab additional batches and bind them together\n",
    "# for j in ['site:cnn.com', 'site:politico.com', 'site:abcnews.go.com', 'site:news.google.com', 'site:bbc.com/news', 'site:economist.com']:\n",
    "# for i in range(2):\n",
    "#     output = webhoseio.query(\"filterWebContent\", {\"q\":\"language:english site_type:news\"})\n",
    "#     output = webhoseio.get_next()\n",
    "#     dfbatch = pd.DataFrame.from_dict(output['posts'], orient='index')\n",
    "#     df = pd.concat([df, dfbatch], axis=0)\n",
    "                                                         "
   ]
  },
  {
   "cell_type": "code",
   "execution_count": 66,
   "metadata": {
    "collapsed": false
   },
   "outputs": [
    {
     "ename": "Exception",
     "evalue": "Too many requests: used 1000 out of 1000 allowed in a month",
     "output_type": "error",
     "traceback": [
      "\u001b[0;31m-------------------------------------------------------------------------\u001b[0m",
      "\u001b[0;31mException\u001b[0m                               Traceback (most recent call last)",
      "\u001b[0;32m<ipython-input-66-9784de84620f>\u001b[0m in \u001b[0;36m<module>\u001b[0;34m()\u001b[0m\n\u001b[1;32m      6\u001b[0m     \u001b[0mi\u001b[0m \u001b[0;34m=\u001b[0m \u001b[0;36m0\u001b[0m\u001b[0;34m\u001b[0m\u001b[0m\n\u001b[1;32m      7\u001b[0m     \u001b[0;32mwhile\u001b[0m \u001b[0mi\u001b[0m \u001b[0;34m<=\u001b[0m \u001b[0;36m50\u001b[0m\u001b[0;34m:\u001b[0m  \u001b[0;31m#max 30 batches (3000 records) from each site\u001b[0m\u001b[0;34m\u001b[0m\u001b[0m\n\u001b[0;32m----> 8\u001b[0;31m         \u001b[0moutput\u001b[0m \u001b[0;34m=\u001b[0m \u001b[0mwebhoseio\u001b[0m\u001b[0;34m.\u001b[0m\u001b[0mget_next\u001b[0m\u001b[0;34m(\u001b[0m\u001b[0;34m)\u001b[0m\u001b[0;34m\u001b[0m\u001b[0m\n\u001b[0m\u001b[1;32m      9\u001b[0m         \u001b[0mdfbatch\u001b[0m \u001b[0;34m=\u001b[0m \u001b[0mpd\u001b[0m\u001b[0;34m.\u001b[0m\u001b[0mDataFrame\u001b[0m\u001b[0;34m.\u001b[0m\u001b[0mfrom_dict\u001b[0m\u001b[0;34m(\u001b[0m\u001b[0moutput\u001b[0m\u001b[0;34m[\u001b[0m\u001b[0;34m'posts'\u001b[0m\u001b[0;34m]\u001b[0m\u001b[0;34m)\u001b[0m\u001b[0;34m\u001b[0m\u001b[0m\n\u001b[1;32m     10\u001b[0m         \u001b[0msites\u001b[0m \u001b[0;34m=\u001b[0m \u001b[0;34m[\u001b[0m\u001b[0;34m]\u001b[0m\u001b[0;34m\u001b[0m\u001b[0m\n",
      "\u001b[0;32m/home/mike/anaconda3/envs/python2/lib/python2.7/site-packages/webhoseio/__init__.pyc\u001b[0m in \u001b[0;36mget_next\u001b[0;34m()\u001b[0m\n\u001b[1;32m     39\u001b[0m \u001b[0;34m\u001b[0m\u001b[0m\n\u001b[1;32m     40\u001b[0m \u001b[0;32mdef\u001b[0m \u001b[0mget_next\u001b[0m\u001b[0;34m(\u001b[0m\u001b[0;34m)\u001b[0m\u001b[0;34m:\u001b[0m\u001b[0;34m\u001b[0m\u001b[0m\n\u001b[0;32m---> 41\u001b[0;31m     \u001b[0;32mreturn\u001b[0m \u001b[0m__session\u001b[0m\u001b[0;34m.\u001b[0m\u001b[0mget_next\u001b[0m\u001b[0;34m(\u001b[0m\u001b[0;34m)\u001b[0m\u001b[0;34m\u001b[0m\u001b[0m\n\u001b[0m\u001b[1;32m     42\u001b[0m \u001b[0;34m\u001b[0m\u001b[0m\n\u001b[1;32m     43\u001b[0m \u001b[0;34m\u001b[0m\u001b[0m\n",
      "\u001b[0;32m/home/mike/anaconda3/envs/python2/lib/python2.7/site-packages/webhoseio/__init__.pyc\u001b[0m in \u001b[0;36mget_next\u001b[0;34m(self)\u001b[0m\n\u001b[1;32m     24\u001b[0m \u001b[0;34m\u001b[0m\u001b[0m\n\u001b[1;32m     25\u001b[0m     \u001b[0;32mdef\u001b[0m \u001b[0mget_next\u001b[0m\u001b[0;34m(\u001b[0m\u001b[0mself\u001b[0m\u001b[0;34m)\u001b[0m\u001b[0;34m:\u001b[0m\u001b[0;34m\u001b[0m\u001b[0m\n\u001b[0;32m---> 26\u001b[0;31m         \u001b[0;32mreturn\u001b[0m \u001b[0mself\u001b[0m\u001b[0;34m.\u001b[0m\u001b[0mquery\u001b[0m\u001b[0;34m(\u001b[0m\u001b[0mself\u001b[0m\u001b[0;34m.\u001b[0m\u001b[0mnext_call\u001b[0m\u001b[0;34m[\u001b[0m\u001b[0;36m1\u001b[0m\u001b[0;34m:\u001b[0m\u001b[0;34m]\u001b[0m\u001b[0;34m)\u001b[0m\u001b[0;34m\u001b[0m\u001b[0m\n\u001b[0m\u001b[1;32m     27\u001b[0m \u001b[0;34m\u001b[0m\u001b[0m\n\u001b[1;32m     28\u001b[0m \u001b[0;34m\u001b[0m\u001b[0m\n",
      "\u001b[0;32m/home/mike/anaconda3/envs/python2/lib/python2.7/site-packages/webhoseio/__init__.pyc\u001b[0m in \u001b[0;36mquery\u001b[0;34m(self, end_point_str, param_dict)\u001b[0m\n\u001b[1;32m     17\u001b[0m         \u001b[0mresponse\u001b[0m \u001b[0;34m=\u001b[0m \u001b[0mself\u001b[0m\u001b[0;34m.\u001b[0m\u001b[0msession\u001b[0m\u001b[0;34m.\u001b[0m\u001b[0mget\u001b[0m\u001b[0;34m(\u001b[0m\u001b[0;34m\"http://webhose.io/\"\u001b[0m \u001b[0;34m+\u001b[0m \u001b[0mend_point_str\u001b[0m\u001b[0;34m,\u001b[0m \u001b[0mparams\u001b[0m\u001b[0;34m=\u001b[0m\u001b[0mparam_dict\u001b[0m\u001b[0;34m)\u001b[0m\u001b[0;34m\u001b[0m\u001b[0m\n\u001b[1;32m     18\u001b[0m         \u001b[0;32mif\u001b[0m \u001b[0mresponse\u001b[0m\u001b[0;34m.\u001b[0m\u001b[0mstatus_code\u001b[0m \u001b[0;34m!=\u001b[0m \u001b[0;36m200\u001b[0m\u001b[0;34m:\u001b[0m\u001b[0;34m\u001b[0m\u001b[0m\n\u001b[0;32m---> 19\u001b[0;31m             \u001b[0;32mraise\u001b[0m \u001b[0mException\u001b[0m\u001b[0;34m(\u001b[0m\u001b[0mresponse\u001b[0m\u001b[0;34m.\u001b[0m\u001b[0mtext\u001b[0m\u001b[0;34m)\u001b[0m\u001b[0;34m\u001b[0m\u001b[0m\n\u001b[0m\u001b[1;32m     20\u001b[0m \u001b[0;34m\u001b[0m\u001b[0m\n\u001b[1;32m     21\u001b[0m         \u001b[0m_output\u001b[0m \u001b[0;34m=\u001b[0m \u001b[0mresponse\u001b[0m\u001b[0;34m.\u001b[0m\u001b[0mjson\u001b[0m\u001b[0;34m(\u001b[0m\u001b[0;34m)\u001b[0m\u001b[0;34m\u001b[0m\u001b[0m\n",
      "\u001b[0;31mException\u001b[0m: Too many requests: used 1000 out of 1000 allowed in a month"
     ]
    }
   ],
   "source": [
    "#grab legit news site batches and bind them together\n",
    "df = pd.DataFrame()\n",
    "# for j in ['site:cnn.com', 'site:politico.com', 'site:abcnews.go.com', 'site:news.google.com', 'site:bbc.com/news', 'site:economist.com', 'nytimes.com', 'pbs.org/newshour', 'pbs.org', 'cbs.com', 'nbcnews.com', 'bloomberg.com', 'npr.org/sections/news', 'c-span.org', 'independent.co.uk', 'apnews.com', 'thehill.com', 'fivethirtyeight.com', 'forbes.com/business', 'money.cnn.com/news']:\n",
    "for j in ['independent.co.uk', 'apnews.com', 'thehill.com', 'fivethirtyeight.com', 'forbes.com/business', 'money.cnn.com/news']:\n",
    "    output = webhoseio.query(\"filterWebContent\", {\"q\":j+' language:english site_type:news'})\n",
    "    i = 0\n",
    "    while i <= 50:  #max 30 batches (3000 records) from each site\n",
    "        output = webhoseio.get_next()\n",
    "        dfbatch = pd.DataFrame.from_dict(output['posts'])\n",
    "        sites = []\n",
    "        replies_count = []\n",
    "        participants_count = []\n",
    "        main_image = []\n",
    "        spam_score = []\n",
    "        shares = []\n",
    "        likes = []\n",
    "        comments = []\n",
    "        for k in range(len(output['posts'])):\n",
    "            sites.append((output['posts'][k]['thread']['site_full']).encode('ascii', 'ignore'))\n",
    "            replies_count.append(output['posts'][k]['thread']['replies_count'])\n",
    "            participants_count.append(output['posts'][k]['thread']['participants_count'])\n",
    "            main_image.append(output['posts'][k]['thread']['main_image'].encode('ascii', 'ignore'))\n",
    "            spam_score.append(output['posts'][k]['thread']['spam_score'])\n",
    "            s = 0\n",
    "            for t in range(len(output['posts'][k]['thread']['social'].values())):\n",
    "                try:\n",
    "                    share = output['posts'][k]['thread']['social'].values()[t]['shares']\n",
    "                    s += share\n",
    "                except:\n",
    "                    pass\n",
    "            shares.append(s)\n",
    "            l = 0\n",
    "            for t in range(len(output['posts'][k]['thread']['social'].values())):\n",
    "                try:\n",
    "                    like = output['posts'][k]['thread']['social'].values()[t]['likes']\n",
    "                    l += like\n",
    "                except:\n",
    "                    pass\n",
    "            likes.append(l)\n",
    "            c = 0\n",
    "            for t in range(len(output['posts'][k]['thread']['social'].values())):\n",
    "                try:\n",
    "                    comment = output['posts'][k]['thread']['social'].values()[t]['comments']\n",
    "                    c += comment\n",
    "                except:\n",
    "                    pass\n",
    "            comments.append(c)\n",
    "        dfbatch['site'] = sites\n",
    "        dfbatch['replies_count'] = replies_count\n",
    "        dfbatch['participants_count'] = participants_count\n",
    "        dfbatch['main_image'] = main_image\n",
    "        dfbatch['spam_score'] = spam_score\n",
    "        dfbatch['shares'] = shares\n",
    "        dfbatch['likes'] = likes\n",
    "        dfbatch['comments'] = comments\n",
    "        df = pd.concat([df,dfbatch], axis=0)\n",
    "        i += 1"
   ]
  },
  {
   "cell_type": "code",
   "execution_count": 67,
   "metadata": {
    "collapsed": true
   },
   "outputs": [
    {
     "name": "stdout",
     "output_type": "stream",
     "text": [
      "(4088, 23)\n"
     ]
    },
    {
     "data": {
      "text/html": [
       "<div>\n",
       "<style>\n",
       "    .dataframe thead tr:only-child th {\n",
       "        text-align: right;\n",
       "    }\n",
       "\n",
       "    .dataframe thead th {\n",
       "        text-align: left;\n",
       "    }\n",
       "\n",
       "    .dataframe tbody tr th {\n",
       "        vertical-align: top;\n",
       "    }\n",
       "</style>\n",
       "<table border=\"1\" class=\"dataframe\">\n",
       "  <thead>\n",
       "    <tr style=\"text-align: right;\">\n",
       "      <th></th>\n",
       "      <th>author</th>\n",
       "      <th>comments</th>\n",
       "      <th>crawled</th>\n",
       "      <th>entities</th>\n",
       "      <th>external_links</th>\n",
       "      <th>highlightText</th>\n",
       "      <th>highlightTitle</th>\n",
       "      <th>language</th>\n",
       "      <th>likes</th>\n",
       "      <th>main_image</th>\n",
       "      <th>...</th>\n",
       "      <th>rating</th>\n",
       "      <th>replies_count</th>\n",
       "      <th>shares</th>\n",
       "      <th>site</th>\n",
       "      <th>spam_score</th>\n",
       "      <th>text</th>\n",
       "      <th>thread</th>\n",
       "      <th>title</th>\n",
       "      <th>url</th>\n",
       "      <th>uuid</th>\n",
       "    </tr>\n",
       "  </thead>\n",
       "  <tbody>\n",
       "    <tr>\n",
       "      <th>22</th>\n",
       "      <td>Associated Press</td>\n",
       "      <td>0.0</td>\n",
       "      <td>2017-06-25T01:28:19.019+03:00</td>\n",
       "      <td>{u'persons': [{u'name': u'herrera', u'sentimen...</td>\n",
       "      <td>[http://twitter.com/tazzoni]</td>\n",
       "      <td></td>\n",
       "      <td></td>\n",
       "      <td>english</td>\n",
       "      <td>0.0</td>\n",
       "      <td>http://www.bostonherald.com/sites/default/file...</td>\n",
       "      <td>...</td>\n",
       "      <td>None</td>\n",
       "      <td>0.0</td>\n",
       "      <td>0.0</td>\n",
       "      <td>bostonherald.com</td>\n",
       "      <td>0.0</td>\n",
       "      <td>Host Russia exits Confederations Cup after los...</td>\n",
       "      <td>{u'social': {u'gplus': {u'shares': 0}, u'pinte...</td>\n",
       "      <td>Host Russia exits Confederations Cup after los...</td>\n",
       "      <td>http://omgili.com/ri/_0JOtn.4SCqb2fOxsoDj4KOC6...</td>\n",
       "      <td>4966f85a9f1ea933202aa8405ad18fb60b0a0d8c</td>\n",
       "    </tr>\n",
       "    <tr>\n",
       "      <th>23</th>\n",
       "      <td>ASSOCIATED PRESS</td>\n",
       "      <td>0.0</td>\n",
       "      <td>2017-06-25T01:44:03.000+03:00</td>\n",
       "      <td>{u'persons': [{u'name': u'bibens-dirkx', u'sen...</td>\n",
       "      <td>[]</td>\n",
       "      <td></td>\n",
       "      <td></td>\n",
       "      <td>english</td>\n",
       "      <td>0.0</td>\n",
       "      <td>http://www.artesianews.com/wp-content/uploads/...</td>\n",
       "      <td>...</td>\n",
       "      <td>None</td>\n",
       "      <td>0.0</td>\n",
       "      <td>0.0</td>\n",
       "      <td>www.artesianews.com</td>\n",
       "      <td>0.0</td>\n",
       "      <td>Published: 2:55   Texas Rangers’ Austin Bibens...</td>\n",
       "      <td>{u'social': {u'gplus': {u'shares': 0}, u'pinte...</td>\n",
       "      <td>Worth the wait: Bibens-Dirkx pitches Rangers p...</td>\n",
       "      <td>http://omgili.com/ri/jHIAmI4hxg8uGdy_6ci_r.Kag...</td>\n",
       "      <td>b1fdb40c965822bacac54e4f08a525cb8fc1bd5f</td>\n",
       "    </tr>\n",
       "    <tr>\n",
       "      <th>24</th>\n",
       "      <td></td>\n",
       "      <td>0.0</td>\n",
       "      <td>2017-06-25T01:46:49.005+03:00</td>\n",
       "      <td>{u'persons': [{u'name': u'bibens-dirkx', u'sen...</td>\n",
       "      <td>[]</td>\n",
       "      <td></td>\n",
       "      <td></td>\n",
       "      <td>english</td>\n",
       "      <td>0.0</td>\n",
       "      <td>http://APMOBILE.images.worldnow.com/images/142...</td>\n",
       "      <td>...</td>\n",
       "      <td>None</td>\n",
       "      <td>0.0</td>\n",
       "      <td>0.0</td>\n",
       "      <td>www.newswest9.com</td>\n",
       "      <td>0.0</td>\n",
       "      <td>Worth the wait: Bibens-Dirkx pitches Rangers p...</td>\n",
       "      <td>{u'social': {u'gplus': {u'shares': 0}, u'pinte...</td>\n",
       "      <td>Worth the wait: Bibens-Dirkx pitches Rangers p...</td>\n",
       "      <td>http://omgili.com/ri/jHIAmI4hxg_lKuQFdZvPvZ0_n...</td>\n",
       "      <td>651360a3e3b315d0e8001dc205d2a0bf17ddd493</td>\n",
       "    </tr>\n",
       "  </tbody>\n",
       "</table>\n",
       "<p>3 rows × 23 columns</p>\n",
       "</div>"
      ],
      "text/plain": [
       "              author  comments                        crawled  \\\n",
       "22  Associated Press       0.0  2017-06-25T01:28:19.019+03:00   \n",
       "23  ASSOCIATED PRESS       0.0  2017-06-25T01:44:03.000+03:00   \n",
       "24                         0.0  2017-06-25T01:46:49.005+03:00   \n",
       "\n",
       "                                             entities  \\\n",
       "22  {u'persons': [{u'name': u'herrera', u'sentimen...   \n",
       "23  {u'persons': [{u'name': u'bibens-dirkx', u'sen...   \n",
       "24  {u'persons': [{u'name': u'bibens-dirkx', u'sen...   \n",
       "\n",
       "                  external_links highlightText highlightTitle language  likes  \\\n",
       "22  [http://twitter.com/tazzoni]                               english    0.0   \n",
       "23                            []                               english    0.0   \n",
       "24                            []                               english    0.0   \n",
       "\n",
       "                                           main_image  \\\n",
       "22  http://www.bostonherald.com/sites/default/file...   \n",
       "23  http://www.artesianews.com/wp-content/uploads/...   \n",
       "24  http://APMOBILE.images.worldnow.com/images/142...   \n",
       "\n",
       "                      ...                     rating  replies_count shares  \\\n",
       "22                    ...                       None            0.0    0.0   \n",
       "23                    ...                       None            0.0    0.0   \n",
       "24                    ...                       None            0.0    0.0   \n",
       "\n",
       "                   site  spam_score  \\\n",
       "22     bostonherald.com         0.0   \n",
       "23  www.artesianews.com         0.0   \n",
       "24    www.newswest9.com         0.0   \n",
       "\n",
       "                                                 text  \\\n",
       "22  Host Russia exits Confederations Cup after los...   \n",
       "23  Published: 2:55   Texas Rangers’ Austin Bibens...   \n",
       "24  Worth the wait: Bibens-Dirkx pitches Rangers p...   \n",
       "\n",
       "                                               thread  \\\n",
       "22  {u'social': {u'gplus': {u'shares': 0}, u'pinte...   \n",
       "23  {u'social': {u'gplus': {u'shares': 0}, u'pinte...   \n",
       "24  {u'social': {u'gplus': {u'shares': 0}, u'pinte...   \n",
       "\n",
       "                                                title  \\\n",
       "22  Host Russia exits Confederations Cup after los...   \n",
       "23  Worth the wait: Bibens-Dirkx pitches Rangers p...   \n",
       "24  Worth the wait: Bibens-Dirkx pitches Rangers p...   \n",
       "\n",
       "                                                  url  \\\n",
       "22  http://omgili.com/ri/_0JOtn.4SCqb2fOxsoDj4KOC6...   \n",
       "23  http://omgili.com/ri/jHIAmI4hxg8uGdy_6ci_r.Kag...   \n",
       "24  http://omgili.com/ri/jHIAmI4hxg_lKuQFdZvPvZ0_n...   \n",
       "\n",
       "                                        uuid  \n",
       "22  4966f85a9f1ea933202aa8405ad18fb60b0a0d8c  \n",
       "23  b1fdb40c965822bacac54e4f08a525cb8fc1bd5f  \n",
       "24  651360a3e3b315d0e8001dc205d2a0bf17ddd493  \n",
       "\n",
       "[3 rows x 23 columns]"
      ]
     },
     "execution_count": 67,
     "metadata": {},
     "output_type": "execute_result"
    }
   ],
   "source": [
    "print(df.shape)\n",
    "df.tail(3)"
   ]
  },
  {
   "cell_type": "code",
   "execution_count": null,
   "metadata": {
    "collapsed": true
   },
   "outputs": [],
   "source": []
  },
  {
   "cell_type": "code",
   "execution_count": 68,
   "metadata": {
    "collapsed": false
   },
   "outputs": [],
   "source": [
    "df.to_csv('/home/mike/git/fakenews/realnews5.csv', mode='w', header=True, index=False, encoding='utf-8')"
   ]
  },
  {
   "cell_type": "code",
   "execution_count": null,
   "metadata": {
    "collapsed": true
   },
   "outputs": [],
   "source": []
  },
  {
   "cell_type": "code",
   "execution_count": null,
   "metadata": {
    "collapsed": true
   },
   "outputs": [],
   "source": []
  }
 ],
 "metadata": {
  "anaconda-cloud": {},
  "kernelspec": {
   "display_name": "Python [conda env:python2]",
   "language": "python",
   "name": "conda-env-python2-py"
  },
  "language_info": {
   "codemirror_mode": {
    "name": "ipython",
    "version": 2
   },
   "file_extension": ".py",
   "mimetype": "text/x-python",
   "name": "python",
   "nbconvert_exporter": "python",
   "pygments_lexer": "ipython2",
   "version": "2.7.12"
  }
 },
 "nbformat": 4,
 "nbformat_minor": 2
}
